{
 "cells": [
  {
   "cell_type": "code",
   "execution_count": 3,
   "metadata": {},
   "outputs": [
    {
     "data": {
      "text/html": [
       "<div>\n",
       "<style scoped>\n",
       "    .dataframe tbody tr th:only-of-type {\n",
       "        vertical-align: middle;\n",
       "    }\n",
       "\n",
       "    .dataframe tbody tr th {\n",
       "        vertical-align: top;\n",
       "    }\n",
       "\n",
       "    .dataframe thead th {\n",
       "        text-align: right;\n",
       "    }\n",
       "</style>\n",
       "<table border=\"1\" class=\"dataframe\">\n",
       "  <thead>\n",
       "    <tr style=\"text-align: right;\">\n",
       "      <th></th>\n",
       "      <th>sample</th>\n",
       "      <th>google_ars</th>\n",
       "      <th>viettelai_ars</th>\n",
       "    </tr>\n",
       "  </thead>\n",
       "  <tbody>\n",
       "    <tr>\n",
       "      <th>0</th>\n",
       "      <td>Tôi rất thích phim The Midnight Studio, đề xuấ...</td>\n",
       "      <td>Tôi rất thích phim The Midnight Studio, đề xuấ...</td>\n",
       "      <td>tôi rất thích phim the smith na ti đi đề xuất ...</td>\n",
       "    </tr>\n",
       "    <tr>\n",
       "      <th>1</th>\n",
       "      <td>Bạn có thể gợi ý cho tôi những bộ phim Thái La...</td>\n",
       "      <td>Bạn có thể gợi ý cho tôi những bộ phim Thái La...</td>\n",
       "      <td>bạn có thể gợi ý cho tôi những bộ phim thái la...</td>\n",
       "    </tr>\n",
       "    <tr>\n",
       "      <th>2</th>\n",
       "      <td>Bạn có thể chia sẻ với tôi một vài bộ phim Việ...</td>\n",
       "      <td>Bạn có thể chia sẻ với tôi một vài bộ phim Việ...</td>\n",
       "      <td>có thể chia sẻ với tôi 1 vài bộ phim việt nam ...</td>\n",
       "    </tr>\n",
       "    <tr>\n",
       "      <th>3</th>\n",
       "      <td>Các thể loại phim nào đang được ưa chuộng nhất...</td>\n",
       "      <td>có thể loại phim nào đang được ưa chuộng nhất ...</td>\n",
       "      <td>phim nào đang được chuộng nhất trên nền tảng t...</td>\n",
       "    </tr>\n",
       "    <tr>\n",
       "      <th>4</th>\n",
       "      <td>cho tôi biết về những bộ phim hot nhất trên TV360</td>\n",
       "      <td>cho tôi biết về những bộ phim hot nhất trên ti...</td>\n",
       "      <td>những bộ phim hót nhất trên tv360</td>\n",
       "    </tr>\n",
       "  </tbody>\n",
       "</table>\n",
       "</div>"
      ],
      "text/plain": [
       "                                              sample  \\\n",
       "0  Tôi rất thích phim The Midnight Studio, đề xuấ...   \n",
       "1  Bạn có thể gợi ý cho tôi những bộ phim Thái La...   \n",
       "2  Bạn có thể chia sẻ với tôi một vài bộ phim Việ...   \n",
       "3  Các thể loại phim nào đang được ưa chuộng nhất...   \n",
       "4  cho tôi biết về những bộ phim hot nhất trên TV360   \n",
       "\n",
       "                                          google_ars  \\\n",
       "0  Tôi rất thích phim The Midnight Studio, đề xuấ...   \n",
       "1  Bạn có thể gợi ý cho tôi những bộ phim Thái La...   \n",
       "2  Bạn có thể chia sẻ với tôi một vài bộ phim Việ...   \n",
       "3  có thể loại phim nào đang được ưa chuộng nhất ...   \n",
       "4  cho tôi biết về những bộ phim hot nhất trên ti...   \n",
       "\n",
       "                                       viettelai_ars  \n",
       "0  tôi rất thích phim the smith na ti đi đề xuất ...  \n",
       "1  bạn có thể gợi ý cho tôi những bộ phim thái la...  \n",
       "2  có thể chia sẻ với tôi 1 vài bộ phim việt nam ...  \n",
       "3  phim nào đang được chuộng nhất trên nền tảng t...  \n",
       "4                  những bộ phim hót nhất trên tv360  "
      ]
     },
     "execution_count": 3,
     "metadata": {},
     "output_type": "execute_result"
    }
   ],
   "source": [
    "import pandas as pd\n",
    "\n",
    "from CRS.evaluation.metrics import bleu, wer\n",
    "\n",
    "df = pd.read_excel(\"data/data_sample.xlsx\")\n",
    "df"
   ]
  },
  {
   "cell_type": "code",
   "execution_count": 4,
   "metadata": {},
   "outputs": [],
   "source": [
    "df[\"bleu_google\"] = df[[\"sample\", \"google_ars\"]].apply(lambda x: bleu(x[\"sample\"], x[\"google_ars\"]), axis=1)\n",
    "df[\"wer_google\"] = df[[\"sample\", \"google_ars\"]].apply(lambda x: 1 - wer(x[\"sample\"], x[\"google_ars\"]), axis=1)\n",
    "df[\"bleu_viettelai\"] = df[[\"sample\", \"viettelai_ars\"]].apply(lambda x: bleu(x[\"sample\"], x[\"viettelai_ars\"]), axis=1)\n",
    "df[\"wer_viettelai\"] = df[[\"sample\", \"viettelai_ars\"]].apply(lambda x: 1 - wer(x[\"sample\"], x[\"viettelai_ars\"]), axis=1)"
   ]
  },
  {
   "cell_type": "code",
   "execution_count": 9,
   "metadata": {},
   "outputs": [
    {
     "name": "stdout",
     "output_type": "stream",
     "text": [
      "Mean of scores\n"
     ]
    },
    {
     "data": {
      "text/plain": [
       "bleu_google       0.823941\n",
       "wer_google        0.893272\n",
       "bleu_viettelai    0.387144\n",
       "wer_viettelai     0.715440\n",
       "dtype: float64"
      ]
     },
     "execution_count": 9,
     "metadata": {},
     "output_type": "execute_result"
    }
   ],
   "source": [
    "print(\"Mean of scores\")\n",
    "df[[\"bleu_google\", \"wer_google\", \"bleu_viettelai\", \"wer_viettelai\"]].mean()"
   ]
  }
 ],
 "metadata": {
  "kernelspec": {
   "display_name": "CRS",
   "language": "python",
   "name": "python3"
  },
  "language_info": {
   "codemirror_mode": {
    "name": "ipython",
    "version": 3
   },
   "file_extension": ".py",
   "mimetype": "text/x-python",
   "name": "python",
   "nbconvert_exporter": "python",
   "pygments_lexer": "ipython3",
   "version": "3.9.19"
  }
 },
 "nbformat": 4,
 "nbformat_minor": 2
}
